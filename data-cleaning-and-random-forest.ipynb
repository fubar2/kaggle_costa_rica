{
 "cells": [
  {
   "cell_type": "code",
   "execution_count": null,
   "metadata": {
    "_cell_guid": "b1076dfc-b9ad-4769-8c92-a6c4dae69d19",
    "_uuid": "8f2839f25d086af736a60e9eeb907d3b93b6e0e5"
   },
   "outputs": [],
   "source": [
    "## This Python 3 environment comes with many helpful analytics libraries installed\n",
    "## It is defined by the kaggle/python docker image: https://github.com/kaggle/docker-python\n",
    "## For example, here's several helpful packages to load in \n",
    "\n",
    "import numpy as np # linear algebra\n",
    "import pandas as pd # data processing, CSV file I/O (e.g. pd.read_csv)\n",
    "\n",
    "## Input data files are available in the \"../input/\" directory.\n",
    "## For example, running this (by clicking run or pressing Shift+Enter) will list the files in the input directory\n",
    "\n",
    "import os\n",
    "print(os.listdir(\"../input\"))\n",
    "\n",
    "## Any results you write to the current directory are saved as output."
   ]
  },
  {
   "cell_type": "code",
   "execution_count": null,
   "metadata": {
    "_cell_guid": "79c7e3d0-c299-4dcb-8224-4455121ee9b0",
    "_uuid": "d629ff2d2480ee46fbb7e2d37f6b5fab8052498a",
    "collapsed": true
   },
   "outputs": [],
   "source": [
    "data=pd.read_csv('../input/train.csv')"
   ]
  },
  {
   "cell_type": "code",
   "execution_count": null,
   "metadata": {
    "_uuid": "33d54c3b41d8719fe23ef6ff6be49a884586f9c5"
   },
   "outputs": [],
   "source": [
    "data.info()"
   ]
  },
  {
   "cell_type": "markdown",
   "metadata": {
    "_uuid": "c4bbf1abdcb9c8adfd3111655c1aaceec1d7d06d"
   },
   "source": [
    "The data have 9557 entries, each entry has 143 columns.\n",
    "\n",
    "Most of the data are floats and integers, a few objects. Let's take a look at the objects."
   ]
  },
  {
   "cell_type": "code",
   "execution_count": null,
   "metadata": {
    "_uuid": "596ed179341de9eea158edb201bbf6265a38fc65"
   },
   "outputs": [],
   "source": [
    "data.columns[data.dtypes==object]"
   ]
  },
  {
   "cell_type": "markdown",
   "metadata": {
    "_uuid": "8153a8113bdff52b1941bc8a18488df809c60577"
   },
   "source": [
    "* Id,  idhogar - no problem, they are just identifications \n",
    "* dependency - dependency rate \n",
    "* edjefe, edjefa - years of education of head of household"
   ]
  },
  {
   "cell_type": "markdown",
   "metadata": {
    "_uuid": "0539ae4b45956219b45db8895862aeadf699e87c"
   },
   "source": [
    "Let's look at the dependency rate."
   ]
  },
  {
   "cell_type": "code",
   "execution_count": null,
   "metadata": {
    "_uuid": "8391991128c1f5895777a89b97977ca07bb35b81"
   },
   "outputs": [],
   "source": [
    "data['dependency'].unique()"
   ]
  },
  {
   "cell_type": "markdown",
   "metadata": {
    "_uuid": "e5cebd7ab7c7037c7c3e4d124b5538e3eda02e38"
   },
   "source": [
    "Lots of numbers as string, plus 'yes' and 'no'. However, we have a column containing the square values if the dependency, 'SQBdependency'. Maybe that can help us."
   ]
  },
  {
   "cell_type": "code",
   "execution_count": null,
   "metadata": {
    "_uuid": "db5ab2a85752738e3fc7f689e57f75da7a1f5fa4"
   },
   "outputs": [],
   "source": [
    "data[(data['dependency']=='no') & (data['SQBdependency']!=0)]"
   ]
  },
  {
   "cell_type": "markdown",
   "metadata": {
    "_uuid": "3f8a68763f9cbc114056eff17a50bbb04a8cbed8"
   },
   "source": [
    "So the \"square\" of no is 0."
   ]
  },
  {
   "cell_type": "code",
   "execution_count": null,
   "metadata": {
    "_uuid": "d84a3df0e185ba25b46c0095d5b305ef07935375"
   },
   "outputs": [],
   "source": [
    "data[(data['dependency']=='yes') & (data['SQBdependency']!=1)]"
   ]
  },
  {
   "cell_type": "code",
   "execution_count": null,
   "metadata": {
    "_uuid": "4ad4ac8e5637a75b3deecc9729860fa9a145667e"
   },
   "outputs": [],
   "source": [
    "data[(data['dependency']=='3') & (data['SQBdependency']!=9)]"
   ]
  },
  {
   "cell_type": "markdown",
   "metadata": {
    "_uuid": "1e72943f24dc715f2088087658977a400649f01f"
   },
   "source": [
    "Seems like we can just derive the dependency from the SQBdependency."
   ]
  },
  {
   "cell_type": "code",
   "execution_count": null,
   "metadata": {
    "_uuid": "dadbf975a71e595c37838db1cdb1b08b15a2a6de",
    "collapsed": true
   },
   "outputs": [],
   "source": [
    "data['dependency']=np.sqrt(data['SQBdependency'])"
   ]
  },
  {
   "cell_type": "markdown",
   "metadata": {
    "_uuid": "aa829f08573d8659cbe1f7fc7460b059917db974"
   },
   "source": [
    "Now let's  look at the jefe/jefa education."
   ]
  },
  {
   "cell_type": "code",
   "execution_count": null,
   "metadata": {
    "_uuid": "28bdcf81673b1422b9bbda9ad0b1cd73afe89969"
   },
   "outputs": [],
   "source": [
    "data['edjefe'].unique()"
   ]
  },
  {
   "cell_type": "code",
   "execution_count": null,
   "metadata": {
    "_uuid": "5f7c2bc4f95b9513a4de0246f423e5884a8a16ac"
   },
   "outputs": [],
   "source": [
    "data['edjefa'].unique()"
   ]
  },
  {
   "cell_type": "markdown",
   "metadata": {
    "_uuid": "ed4cbbe3519ddbf16c752db99316eff895fb3f1d"
   },
   "source": [
    "Again, numbers, 'yes' and 'no'. Here there's also 'SQBedjefe', yay!"
   ]
  },
  {
   "cell_type": "code",
   "execution_count": null,
   "metadata": {
    "_uuid": "0dbfe68fca85b9f0dff79af20d7d778c6f27f56e"
   },
   "outputs": [],
   "source": [
    "data['SQBedjefe'].unique()"
   ]
  },
  {
   "cell_type": "code",
   "execution_count": null,
   "metadata": {
    "_uuid": "d0ffc06ac609e72b69f895e463a55bb64f3dd529",
    "scrolled": true
   },
   "outputs": [],
   "source": [
    "data[['edjefe', 'edjefa', 'SQBedjefe']][:20]"
   ]
  },
  {
   "cell_type": "markdown",
   "metadata": {
    "_uuid": "f73b02d90a2a0748da1e9878c83aad91558d9bb6"
   },
   "source": [
    "Hmmm, 'SQBedjefe is just the square of 'edjefe', it's 0 if the head of the household is a woman."
   ]
  },
  {
   "cell_type": "code",
   "execution_count": null,
   "metadata": {
    "_uuid": "ae9bfbad5ad2f86fb636528c8ab906779ba260eb",
    "scrolled": true
   },
   "outputs": [],
   "source": [
    "data[['edjefe', 'edjefa', 'SQBedjefe']][data['edjefe']=='yes']"
   ]
  },
  {
   "cell_type": "code",
   "execution_count": null,
   "metadata": {
    "_uuid": "0c91b88e243360dafb0422ec3c109cb2b73469c7"
   },
   "outputs": [],
   "source": [
    "data[(data['edjefe']=='yes') & (data['edjefa']!='no')]"
   ]
  },
  {
   "cell_type": "code",
   "execution_count": null,
   "metadata": {
    "_uuid": "70c7920913140a29aa9302d9cb246d66e2886f29"
   },
   "outputs": [],
   "source": [
    "data[(data['edjefa']=='yes') & (data['parentesco1']==1)][['edjefe', 'edjefa', 'parentesco1', 'escolari']]"
   ]
  },
  {
   "cell_type": "code",
   "execution_count": null,
   "metadata": {
    "_uuid": "0f5b88b625b9745fccd051ee960670155471d7c4"
   },
   "outputs": [],
   "source": [
    "data[data['edjefe']=='yes'][['edjefe', 'edjefa','age', 'escolari', 'parentesco1','male', 'female', 'idhogar']]"
   ]
  },
  {
   "cell_type": "code",
   "execution_count": null,
   "metadata": {
    "_uuid": "41d4316e1b10703c94dc3e994b6b120a6bf4567e",
    "scrolled": true
   },
   "outputs": [],
   "source": [
    "data[(data['edjefe']=='no') & (data['edjefa']=='no')][['edjefe', 'edjefa', 'age', 'escolari', 'female', 'male', 'Id', 'parentesco1', 'idhogar']]"
   ]
  },
  {
   "cell_type": "code",
   "execution_count": null,
   "metadata": {
    "_uuid": "d05c1e0cd612b0284e9f53cb1482ddbdb6c8f229",
    "scrolled": true
   },
   "outputs": [],
   "source": [
    "data[(data['edjefe']=='yes') & data['parentesco1']==1][['escolari']]"
   ]
  },
  {
   "cell_type": "markdown",
   "metadata": {
    "_uuid": "33789e08918c7a74a7dce1e8c7a832c07de4ef09"
   },
   "source": [
    "Basically:\n",
    "* 'edjefe' and 'edjefa' are both 'no' when the head of the household had 0 years of school\n",
    "* there's 'edjefe'= 'yes' and 'edjefa'='no' in some cases, all these cases the head of the household had 1 year of school\n",
    "* there's 'edjefe'= 'no' and 'edjefa'='yes' in some cases, all these cases the head of the household had 1 year of school\n",
    "* most of the time either 'edjefe' or 'edjefa' is a number while the other is a 'no'\n",
    "\n",
    "Let's merge the jefe and jefa education into one, undependent of gender"
   ]
  },
  {
   "cell_type": "code",
   "execution_count": null,
   "metadata": {
    "_uuid": "475f1d1912ab24faa0545a8f8b5530d541f52435"
   },
   "outputs": [],
   "source": [
    "conditions = [\n",
    "    (data['edjefe']=='no') & (data['edjefa']=='no'), #both no\n",
    "    (data['edjefe']=='yes') & (data['edjefa']=='no'), # yes and no\n",
    "    (data['edjefe']=='no') & (data['edjefa']=='yes'), #no and yes \n",
    "    (data['edjefe']!='no') & (data['edjefe']!='yes') & (data['edjefa']=='no'), # number and no\n",
    "    (data['edjefe']=='no') & (data['edjefa']!='no') # no and number\n",
    "]\n",
    "choices = [0, 1, 1, data['edjefe'], data['edjefa']]\n",
    "data['edjefx']=np.select(conditions, choices)\n",
    "data['edjefx']=data['edjefx'].astype(int)\n",
    "data[['edjefe', 'edjefa', 'edjefx']][:15]"
   ]
  },
  {
   "cell_type": "code",
   "execution_count": null,
   "metadata": {
    "_uuid": "8f713c2db86a0d65bd706d09890912ce8c31f115"
   },
   "outputs": [],
   "source": [
    "data.describe()"
   ]
  },
  {
   "cell_type": "markdown",
   "metadata": {
    "_uuid": "d25dcd14ae08d2be3438773343d445a30149b9cb"
   },
   "source": [
    "Let's figure out if there are missing values."
   ]
  },
  {
   "cell_type": "code",
   "execution_count": null,
   "metadata": {
    "_uuid": "7c9324939edcb2655fdf20b392f9e8fe86c39d60"
   },
   "outputs": [],
   "source": [
    "data.columns[data.isna().sum()!=0]"
   ]
  },
  {
   "cell_type": "markdown",
   "metadata": {
    "_uuid": "656b9505b0cac3e1a7a752e74c46460fa6c71dc5"
   },
   "source": [
    "Columns with nans:\n",
    "* v2a1 - monthly rent\n",
    "* v18q1 - number of tablets\n",
    "* rez_esc - years behind school\n",
    "* meaneduc - mean education for adults\n",
    "* SQBmeaned - square of meaned  "
   ]
  },
  {
   "cell_type": "markdown",
   "metadata": {
    "_uuid": "a05bb486f472023aedf0f7558b42fa7f6b10bd5f"
   },
   "source": [
    "'meaneduc' and 'SQBmeaned' are related, let's start with those."
   ]
  },
  {
   "cell_type": "code",
   "execution_count": null,
   "metadata": {
    "_uuid": "7cdd94dd6084baec42f20fe61e7693771a581545"
   },
   "outputs": [],
   "source": [
    "data[data['meaneduc'].isnull()]"
   ]
  },
  {
   "cell_type": "markdown",
   "metadata": {
    "_uuid": "1f914c8845ca83b971ec7199c73268d525746888"
   },
   "source": [
    "Not a lot of rows"
   ]
  },
  {
   "cell_type": "code",
   "execution_count": null,
   "metadata": {
    "_uuid": "914e0a1d9944adc860116a12a104d8d8bead5237"
   },
   "outputs": [],
   "source": [
    "data[data['meaneduc'].isnull()][['Id','idhogar','edjefe','edjefa', 'hogar_adul', 'hogar_mayor', 'hogar_nin', 'age', 'escolari']]"
   ]
  },
  {
   "cell_type": "code",
   "execution_count": null,
   "metadata": {
    "_uuid": "1b82df8c59f0c05fea3a730dba1433b0ebfb6530"
   },
   "outputs": [],
   "source": [
    "print(len(data[data['idhogar']==data.iloc[1291]['idhogar']]))\n",
    "print(len(data[data['idhogar']==data.iloc[1840]['idhogar']]))\n",
    "print(len(data[data['idhogar']==data.iloc[2049]['idhogar']]))"
   ]
  },
  {
   "cell_type": "markdown",
   "metadata": {
    "_uuid": "a5538e85d3eae5c13e5bf72a096dbcba2d2f7e78"
   },
   "source": [
    "So, the 5 rows with Nan for 'meaneduc' is just 3 households, where 18-19 year-olds live.  No other people live in these households. Then we can just take the education levels of these kids ('escolari') and put them into 'meaneduc' and 'SQBmeaned'."
   ]
  },
  {
   "cell_type": "code",
   "execution_count": null,
   "metadata": {
    "_uuid": "5ecf27d479df9729a8d59fd397ae06bd1fdb4be8",
    "collapsed": true
   },
   "outputs": [],
   "source": [
    "meaneduc_nan=data[data['meaneduc'].isnull()][['Id','idhogar','escolari']]"
   ]
  },
  {
   "cell_type": "code",
   "execution_count": null,
   "metadata": {
    "_uuid": "dc22d4bcc77a37c42be341c7c8ef02308d345849",
    "collapsed": true
   },
   "outputs": [],
   "source": [
    "me=meaneduc_nan.groupby('idhogar')['escolari'].mean().reset_index()"
   ]
  },
  {
   "cell_type": "code",
   "execution_count": null,
   "metadata": {
    "_uuid": "10e5625fadf9c610a53d77c5e80259efa4a2f0e9"
   },
   "outputs": [],
   "source": [
    "me"
   ]
  },
  {
   "cell_type": "code",
   "execution_count": null,
   "metadata": {
    "_uuid": "aabc07219fef90099d86189928a6c7ea6b6dcc95",
    "collapsed": true
   },
   "outputs": [],
   "source": [
    "for row in meaneduc_nan.iterrows():\n",
    "    idx=row[0]\n",
    "    idhogar=row[1]['idhogar']\n",
    "    m=me[me['idhogar']==idhogar]['escolari'].tolist()[0]\n",
    "    data.at[idx, 'meaneduc']=m\n",
    "    data.at[idx, 'SQBmeaned']=m*m\n",
    "    "
   ]
  },
  {
   "cell_type": "markdown",
   "metadata": {
    "_uuid": "3e6644b414a3eb6acdc8aaa724c4cc9ffad4d409"
   },
   "source": []
  },
  {
   "cell_type": "markdown",
   "metadata": {
    "_uuid": "d87ff9a93b009c47bd6e75c84d89e4e2ec4e3713"
   },
   "source": [
    "Next, let's look at 'v2a1', the monthly rent payment, that also has missing values."
   ]
  },
  {
   "cell_type": "code",
   "execution_count": null,
   "metadata": {
    "_uuid": "a4033c72efcf7bff27d325857811cae6bd45d1ef"
   },
   "outputs": [],
   "source": [
    "data['v2a1'].isnull().sum()"
   ]
  },
  {
   "cell_type": "markdown",
   "metadata": {
    "_uuid": "4ea5b4eab243db2263f2f8d905aa6a3133fc1800"
   },
   "source": [
    "That's a lot of missing values.\n",
    "\n",
    "But maybe they own their houses. We can look what type of housing these people with missing values live.."
   ]
  },
  {
   "cell_type": "code",
   "execution_count": null,
   "metadata": {
    "_uuid": "82b9a0550f7b1b5c7c1db11d2bd83dc0404026c0"
   },
   "outputs": [],
   "source": [
    "norent=data[data['v2a1'].isnull()]\n",
    "print(\"Owns his house:\", norent[norent['tipovivi1']==1]['Id'].count())\n",
    "print(\"Owns his house paying installments\", norent[norent['tipovivi2']==1]['Id'].count())\n",
    "print(\"Rented \", norent[norent['tipovivi3']==1]['Id'].count())\n",
    "print(\"Precarious \", norent[norent['tipovivi4']==1]['Id'].count())\n",
    "print(\"Other \", norent[norent['tipovivi5']==1]['Id'].count())\n",
    "print(\"Total \", 6860)"
   ]
  },
  {
   "cell_type": "markdown",
   "metadata": {
    "_uuid": "7438dba036d32edbc9418ceccca4fc705eaec0db"
   },
   "source": [
    "The majority in fact owns their houses, only a few have odd situations. We can probably just assume they don't pay rent, and put 0 in these cases."
   ]
  },
  {
   "cell_type": "code",
   "execution_count": null,
   "metadata": {
    "_uuid": "9347c499f8bd406a7ab6a2c08c2a4f9a0cdd58f0",
    "collapsed": true
   },
   "outputs": [],
   "source": [
    "data['v2a1']=data['v2a1'].fillna(0)"
   ]
  },
  {
   "cell_type": "markdown",
   "metadata": {
    "_uuid": "ff806c9047883a9636588188956da8614f164b79"
   },
   "source": [
    "Now, let's look at 'v18q1', which indicates how many tablets the household owns."
   ]
  },
  {
   "cell_type": "code",
   "execution_count": null,
   "metadata": {
    "_uuid": "812c333bbeade7f787040aef60ad0ca9ed3bae55"
   },
   "outputs": [],
   "source": [
    "data['v18q1'].isna().sum()"
   ]
  },
  {
   "cell_type": "markdown",
   "metadata": {
    "_uuid": "a3c0b5923bff1e165024610688e6156fd7c8b4fe"
   },
   "source": [
    "That's also a lot rows with missing values... However, there's a column, 'v18q', which indicates whether there's a tablet in the household at all, that might help!"
   ]
  },
  {
   "cell_type": "code",
   "execution_count": null,
   "metadata": {
    "_uuid": "67849a0bc1dd618dff27d6c7e052b309e7045dce"
   },
   "outputs": [],
   "source": [
    "tabletnan=data[data['v18q1'].isnull()]\n",
    "tabletnan[tabletnan['v18q']==0]['Id'].count()"
   ]
  },
  {
   "cell_type": "code",
   "execution_count": null,
   "metadata": {
    "_uuid": "067869cee9c7cb5580dd00c55f2ce88169cb52a3"
   },
   "outputs": [],
   "source": [
    "data['v18q1'].unique()"
   ]
  },
  {
   "cell_type": "markdown",
   "metadata": {
    "_uuid": "592fbc96e7c2d250f116ad0b0222373292e3a3fe"
   },
   "source": [
    "That's exactly the number of rows with missing values! There's also no 0 among the values of 'v18q1'. So all the nans in 'v18q1' just means they don't own a tablet! So we can just change them to 0."
   ]
  },
  {
   "cell_type": "code",
   "execution_count": null,
   "metadata": {
    "_uuid": "9afc2c297dbe292836365e62e879461a1b370f2d",
    "collapsed": true
   },
   "outputs": [],
   "source": [
    "data['v18q1']=data['v18q1'].fillna(0)"
   ]
  },
  {
   "cell_type": "markdown",
   "metadata": {
    "_uuid": "b7154c4f201f8cd5d4c0bda1a004beb3eea2daf1"
   },
   "source": [
    "Next up is 'rez_esc', which indicates if a person is behind in school."
   ]
  },
  {
   "cell_type": "code",
   "execution_count": null,
   "metadata": {
    "_uuid": "b646f3ebe4ce0ca8e81e621ea1d29c83ee4c555c"
   },
   "outputs": [],
   "source": [
    "data['rez_esc'].isnull().sum()"
   ]
  },
  {
   "cell_type": "markdown",
   "metadata": {
    "_uuid": "1273a9f637b73deeba459166debbcdb02cdbf63b"
   },
   "source": [
    "That's also a crazy lot of rows.."
   ]
  },
  {
   "cell_type": "code",
   "execution_count": null,
   "metadata": {
    "_uuid": "5ec16c903129a2f96f112bb5d717ff0f1e08cf21"
   },
   "outputs": [],
   "source": [
    "data['rez_esc'].describe()"
   ]
  },
  {
   "cell_type": "code",
   "execution_count": null,
   "metadata": {
    "_uuid": "417fa698914d89d3dded239933fd4f822d9fc5a4"
   },
   "outputs": [],
   "source": [
    "data['rez_esc'].unique()"
   ]
  },
  {
   "cell_type": "code",
   "execution_count": null,
   "metadata": {
    "_uuid": "0fcdef00757a76c7900fd1a0ea88d4fc2828c3c2",
    "scrolled": true
   },
   "outputs": [],
   "source": [
    "data[data['rez_esc']>1][['age', 'escolari', 'rez_esc']][:20]"
   ]
  },
  {
   "cell_type": "markdown",
   "metadata": {
    "_uuid": "ea389863b7edfb7fb7542aca0bf2808c051e4c44"
   },
   "source": [
    "Hmmm, these are all schoolchildren..."
   ]
  },
  {
   "cell_type": "code",
   "execution_count": null,
   "metadata": {
    "_uuid": "e0a65bc5b9964c87597d9897b4a6bdd86fa4b65d"
   },
   "outputs": [],
   "source": [
    "rez_esc_nan=data[data['rez_esc'].isnull()]\n",
    "rez_esc_nan[(rez_esc_nan['age']<18) & rez_esc_nan['escolari']>0][['age', 'escolari']]"
   ]
  },
  {
   "cell_type": "markdown",
   "metadata": {
    "_uuid": "b8669fbd19ffd751fd08e6ab6492e85c875450fc"
   },
   "source": [
    "So all the nans here are either adults or children before school age. We can input  0 again."
   ]
  },
  {
   "cell_type": "code",
   "execution_count": null,
   "metadata": {
    "_uuid": "ff5373b7765b27dcd0fdad5bbef797d0848bf2db",
    "collapsed": true
   },
   "outputs": [],
   "source": [
    "data['rez_esc']=data['rez_esc'].fillna(0)"
   ]
  },
  {
   "cell_type": "markdown",
   "metadata": {
    "_uuid": "5b5f704b1178276b801c94e6951071578ba1ba61"
   },
   "source": [
    "Someone commented in the discussions that the same household can have different target values. Let's look at it."
   ]
  },
  {
   "cell_type": "code",
   "execution_count": null,
   "metadata": {
    "_uuid": "57646c2399259c3da342a2af664f715b9cab91cf"
   },
   "outputs": [],
   "source": [
    "d={}\n",
    "weird=[]\n",
    "for row in data.iterrows():\n",
    "    idhogar=row[1]['idhogar']\n",
    "    target=row[1]['Target']\n",
    "    if idhogar in d:\n",
    "        if d[idhogar]!=target:\n",
    "            weird.append(idhogar)\n",
    "    else:\n",
    "        d[idhogar]=target"
   ]
  },
  {
   "cell_type": "code",
   "execution_count": null,
   "metadata": {
    "_uuid": "6e7828fd5a72a692280cd86d0e7a0d1306b6dee6"
   },
   "outputs": [],
   "source": [
    "len(set(weird))"
   ]
  },
  {
   "cell_type": "markdown",
   "metadata": {
    "_uuid": "347bd415c769a4bb796a635e7bd4f0edc93b13d4"
   },
   "source": [
    "There are 85 households like that."
   ]
  },
  {
   "cell_type": "code",
   "execution_count": null,
   "metadata": {
    "_uuid": "78c9ee8d44d310ecfd25400ba174ddd5800b7b03"
   },
   "outputs": [],
   "source": [
    "data[data['idhogar']==weird[2]][['idhogar','parentesco1', 'Target']]"
   ]
  },
  {
   "cell_type": "markdown",
   "metadata": {
    "_uuid": "6290d6bd9790a04470f89020878c876ab3badbb4"
   },
   "source": [
    "In the discussion we were told that the correct target value is the one belonging to the head of the household. So we should set the correct value each time."
   ]
  },
  {
   "cell_type": "code",
   "execution_count": null,
   "metadata": {
    "_uuid": "3bd0f482a84e7b98891a4c795075491b02d91733"
   },
   "outputs": [],
   "source": [
    "for i in set(weird):\n",
    "    hhold=data[data['idhogar']==i][['idhogar', 'parentesco1', 'Target']]\n",
    "    target=hhold[hhold['parentesco1']==1]['Target'].tolist()[0]\n",
    "    for row in hhold.iterrows():\n",
    "        idx=row[0]\n",
    "        if row[1]['parentesco1']!=1:\n",
    "            data.at[idx, 'Target']=target\n",
    "    "
   ]
  },
  {
   "cell_type": "code",
   "execution_count": null,
   "metadata": {
    "_uuid": "620d3fefb7a6799e738ca710cd6f4cae6f682c3f"
   },
   "outputs": [],
   "source": [
    "data[data['idhogar']==weird[1]][['idhogar','parentesco1', 'Target']]"
   ]
  },
  {
   "cell_type": "code",
   "execution_count": null,
   "metadata": {
    "_uuid": "6fa88b44baf5a9696119286e65752d5e1af829af",
    "collapsed": true
   },
   "outputs": [],
   "source": [
    "def data_cleaning(data):\n",
    "    data['dependency']=np.sqrt(data['SQBdependency'])\n",
    "    data['rez_esc']=data['rez_esc'].fillna(0)\n",
    "    data['v18q1']=data['v18q1'].fillna(0)\n",
    "    data['v2a1']=data['v2a1'].fillna(0)\n",
    "    \n",
    "    conditions = [\n",
    "    (data['edjefe']=='no') & (data['edjefa']=='no'), #both no\n",
    "    (data['edjefe']=='yes') & (data['edjefa']=='no'), # yes and no\n",
    "    (data['edjefe']=='no') & (data['edjefa']=='yes'), #no and yes \n",
    "    (data['edjefe']!='no') & (data['edjefe']!='yes') & (data['edjefa']=='no'), # number and no\n",
    "    (data['edjefe']=='no') & (data['edjefa']!='no') # no and number\n",
    "    ]\n",
    "    choices = [0, 1, 1, data['edjefe'], data['edjefa']]\n",
    "    data['edjefx']=np.select(conditions, choices)\n",
    "    data['edjefx']=data['edjefx'].astype(int)\n",
    "    data.drop(['edjefe', 'edjefa'], axis=1, inplace=True)\n",
    "    \n",
    "    meaneduc_nan=data[data['meaneduc'].isnull()][['Id','idhogar','escolari']]\n",
    "    me=meaneduc_nan.groupby('idhogar')['escolari'].mean().reset_index()\n",
    "    for row in meaneduc_nan.iterrows():\n",
    "        idx=row[0]\n",
    "        idhogar=row[1]['idhogar']\n",
    "        m=me[me['idhogar']==idhogar]['escolari'].tolist()[0]\n",
    "        data.at[idx, 'meaneduc']=m\n",
    "        data.at[idx, 'SQBmeaned']=m*m\n",
    "        \n",
    "    return data"
   ]
  },
  {
   "cell_type": "markdown",
   "metadata": {
    "_uuid": "a3812ecf5326db38d683313407a667329a640442"
   },
   "source": [
    "### Ploting"
   ]
  },
  {
   "cell_type": "code",
   "execution_count": null,
   "metadata": {
    "_uuid": "5ab7fb7e7ec0bb38edd939abafe1db833b499a4e",
    "collapsed": true
   },
   "outputs": [],
   "source": [
    "import matplotlib.pyplot as plt\n",
    "%matplotlib inline\n",
    "import seaborn as sns"
   ]
  },
  {
   "cell_type": "code",
   "execution_count": null,
   "metadata": {
    "_uuid": "963aba36ba50f93f5f39b0a6aeec39c22b73a7eb"
   },
   "outputs": [],
   "source": [
    "data['Target'].hist()"
   ]
  },
  {
   "cell_type": "code",
   "execution_count": null,
   "metadata": {
    "_uuid": "cafebf4c3443350b43094386c768be96689b323d",
    "collapsed": true
   },
   "outputs": [],
   "source": [
    "data_undersampled=data.drop(data.query('Target == 4').sample(frac=.75).index)"
   ]
  },
  {
   "cell_type": "code",
   "execution_count": null,
   "metadata": {
    "_uuid": "2f9e9b946187ed1db3cb2bc9e00522005e1993e5"
   },
   "outputs": [],
   "source": [
    "data_undersampled['Target'].hist()"
   ]
  },
  {
   "cell_type": "markdown",
   "metadata": {
    "_uuid": "935197c813dae6d41a001c6ffb43bcaedc50e883"
   },
   "source": [
    "### Random forest"
   ]
  },
  {
   "cell_type": "code",
   "execution_count": null,
   "metadata": {
    "_uuid": "d4e785a2caee7957ca11b2c9cef6a753770096c6",
    "collapsed": true
   },
   "outputs": [],
   "source": [
    "X=data_undersampled.drop(['Id', 'idhogar', 'Target', 'edjefe', 'edjefa'], axis=1)\n",
    "y=data_undersampled['Target']"
   ]
  },
  {
   "cell_type": "code",
   "execution_count": null,
   "metadata": {
    "_uuid": "9b6030d3ce4e5240ad4c49e11394b2a983350c40",
    "collapsed": true
   },
   "outputs": [],
   "source": [
    "from sklearn.model_selection import train_test_split\n",
    "X_train, X_test, y_train, y_test = train_test_split(X, y, test_size=0.2)"
   ]
  },
  {
   "cell_type": "code",
   "execution_count": null,
   "metadata": {
    "_uuid": "66fe9ed989b052fe1c65f367b51f20c0cae504c3"
   },
   "outputs": [],
   "source": [
    "X_train.shape"
   ]
  },
  {
   "cell_type": "code",
   "execution_count": null,
   "metadata": {
    "_uuid": "ba670636b5fffd03a613b4c423a677733a6fc041"
   },
   "outputs": [],
   "source": [
    "y_train.shape"
   ]
  },
  {
   "cell_type": "code",
   "execution_count": null,
   "metadata": {
    "_uuid": "2ac0b20146cae1bb3893e7a54f56fde480cad035",
    "collapsed": true
   },
   "outputs": [],
   "source": [
    "from sklearn.ensemble import RandomForestClassifier\n",
    "from sklearn.model_selection import GridSearchCV"
   ]
  },
  {
   "cell_type": "code",
   "execution_count": null,
   "metadata": {
    "_uuid": "942aaff8ac50362c4f005f0551d7443c4102c8f7",
    "collapsed": true
   },
   "outputs": [],
   "source": [
    "clf = RandomForestClassifier()\n",
    "params={'n_estimators': list(range(40,61, 1))}\n",
    "gs = GridSearchCV(clf, params, cv=5)"
   ]
  },
  {
   "cell_type": "code",
   "execution_count": null,
   "metadata": {
    "_uuid": "59198134f3f47706cb99d1d082eaf7ebb2901d29"
   },
   "outputs": [],
   "source": [
    "gs.fit(X_train, y_train)"
   ]
  },
  {
   "cell_type": "code",
   "execution_count": null,
   "metadata": {
    "_uuid": "57194e0b7a5014377951290550c60f1bb0ead393",
    "collapsed": true
   },
   "outputs": [],
   "source": [
    "preds=gs.predict(X_test)"
   ]
  },
  {
   "cell_type": "code",
   "execution_count": null,
   "metadata": {
    "_uuid": "adc51b417fc752909b8bfb08552dfa37539244bc"
   },
   "outputs": [],
   "source": [
    "from sklearn.metrics import classification_report\n",
    "print(classification_report(y_test, preds))"
   ]
  },
  {
   "cell_type": "code",
   "execution_count": null,
   "metadata": {
    "_uuid": "06840f7012a27f450cfb7465cf50fa187566457c"
   },
   "outputs": [],
   "source": [
    "from sklearn.metrics import confusion_matrix\n",
    "print(confusion_matrix(y_test, preds))"
   ]
  },
  {
   "cell_type": "code",
   "execution_count": null,
   "metadata": {
    "_uuid": "486da0eca1f310dc3202f3825a91d8e6627c2603"
   },
   "outputs": [],
   "source": [
    "print(gs.best_params_)\n",
    "print(gs.best_score_)\n",
    "print(gs.best_estimator_)"
   ]
  },
  {
   "cell_type": "code",
   "execution_count": null,
   "metadata": {
    "_uuid": "1195efd7e416192e868cb6646ca50f6280d7ff6f"
   },
   "outputs": [],
   "source": [
    "cvres = gs.cv_results_\n",
    "for mean_score, params in zip(cvres[\"mean_test_score\"], cvres[\"params\"]):\n",
    "    print(np.sqrt(mean_score), params)"
   ]
  },
  {
   "cell_type": "code",
   "execution_count": null,
   "metadata": {
    "_uuid": "1935fc873da52af0764dde5f5be419cb64fd11e8",
    "collapsed": true
   },
   "outputs": [],
   "source": [
    "test_data=pd.read_csv('../input/test.csv')"
   ]
  },
  {
   "cell_type": "code",
   "execution_count": null,
   "metadata": {
    "_uuid": "dcfb06c47e6d7f0a3ed091fb479bf9a4e86e1ae5",
    "collapsed": true
   },
   "outputs": [],
   "source": [
    "test_data=data_cleaning(test_data)"
   ]
  },
  {
   "cell_type": "code",
   "execution_count": null,
   "metadata": {
    "_uuid": "45e8677ed6f720163cf99688dbaeb6771cc17c6f",
    "collapsed": true
   },
   "outputs": [],
   "source": [
    "ids=test_data['Id']\n",
    "test_data.drop(['Id', 'idhogar'], axis=1, inplace=True)"
   ]
  },
  {
   "cell_type": "code",
   "execution_count": null,
   "metadata": {
    "_uuid": "58adcce071b386361d226142f851b43e4e68c787",
    "collapsed": true
   },
   "outputs": [],
   "source": [
    "test_predictions=gs.predict(test_data)"
   ]
  },
  {
   "cell_type": "code",
   "execution_count": null,
   "metadata": {
    "_uuid": "8fafec350e4f4fd7602a94be17b459014d07a3ee"
   },
   "outputs": [],
   "source": [
    "test_predictions[:5]"
   ]
  },
  {
   "cell_type": "code",
   "execution_count": null,
   "metadata": {
    "_uuid": "538a0fb13f3dfdc5eed5a6b18c4bae003d17fbd3",
    "collapsed": true
   },
   "outputs": [],
   "source": [
    "submit=pd.DataFrame({'Id': ids, 'Target': test_predictions})"
   ]
  },
  {
   "cell_type": "code",
   "execution_count": null,
   "metadata": {
    "_uuid": "9ddd900079d72dae9347b67c7c3144fea142f0b5",
    "collapsed": true
   },
   "outputs": [],
   "source": [
    "submit.to_csv('submit.csv', index=False)"
   ]
  },
  {
   "cell_type": "code",
   "execution_count": null,
   "metadata": {
    "_uuid": "fe7c9532d1a74ddeb1b2427895bc7e0a38cfa222",
    "collapsed": true
   },
   "outputs": [],
   "source": []
  }
 ],
 "metadata": {
  "kernelspec": {
   "display_name": "Python 3",
   "language": "python",
   "name": "python3"
  },
  "language_info": {
   "codemirror_mode": {
    "name": "ipython",
    "version": 3
   },
   "file_extension": ".py",
   "mimetype": "text/x-python",
   "name": "python",
   "nbconvert_exporter": "python",
   "pygments_lexer": "ipython3",
   "version": "3.6.5"
  }
 },
 "nbformat": 4,
 "nbformat_minor": 1
}
